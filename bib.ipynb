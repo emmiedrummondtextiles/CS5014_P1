{
 "cells": [
  {
   "cell_type": "markdown",
   "metadata": {},
   "source": [
    "bib\n",
    "https://stackoverflow.com/questions/54411144/lasso-regression-implementation-without-python-libraries\n",
    "https://www.geeksforgeeks.org/implementation-of-lasso-regression-from-scratch-using-python/\n",
    "http://www.cs.cmu.edu/afs/cs/project/link-3/lafferty/www/ml-stat2/talks/YondaiKimGLasso-SLIDE-YD.pdf\n",
    "\n",
    "\n",
    "\n",
    "https://medium.com/biased-algorithms/lasso-regression-from-scratch-in-python-218799c1183d\n",
    "\n",
    "https://www.kaggle.com/code/ninjaac/lasso-and-ridge-regression-from-scratch"
   ]
  }
 ],
 "metadata": {
  "language_info": {
   "name": "python"
  }
 },
 "nbformat": 4,
 "nbformat_minor": 2
}
