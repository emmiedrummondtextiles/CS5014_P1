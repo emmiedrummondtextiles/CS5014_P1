{
 "cells": [
  {
   "cell_type": "markdown",
   "metadata": {},
   "source": [
    "bib\n",
    "https://stackoverflow.com/questions/54411144/lasso-regression-implementation-without-python-libraries\n",
    "https://www.geeksforgeeks.org/implementation-of-lasso-regression-from-scratch-using-python/"
   ]
  }
 ],
 "metadata": {
  "language_info": {
   "name": "python"
  }
 },
 "nbformat": 4,
 "nbformat_minor": 2
}
